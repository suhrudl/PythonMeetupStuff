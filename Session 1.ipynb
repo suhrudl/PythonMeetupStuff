{
 "cells": [
  {
   "cell_type": "code",
   "execution_count": 3,
   "metadata": {},
   "outputs": [
    {
     "name": "stdout",
     "output_type": "stream",
     "text": [
      "Hello, World!\n"
     ]
    }
   ],
   "source": [
    "#1. Print 'Hello world\"\n",
    "print('Hello, World!')"
   ]
  },
  {
   "cell_type": "code",
   "execution_count": 8,
   "metadata": {},
   "outputs": [
    {
     "data": {
      "text/plain": [
       "NoneType"
      ]
     },
     "execution_count": 8,
     "metadata": {},
     "output_type": "execute_result"
    }
   ],
   "source": [
    "#2. Print the types of the ff:\n",
    "#a. 2 \n",
    "type(2)\n",
    "\n",
    "#b. 42.0 \n",
    "type(42.0)\n",
    "\n",
    "#c. 'Data Science'\n",
    "type('Date Science')\n",
    "\n",
    "#d. True\n",
    "type(True)\n",
    "\n",
    "#e. None\n",
    "type(None)"
   ]
  },
  {
   "cell_type": "code",
   "execution_count": 28,
   "metadata": {},
   "outputs": [
    {
     "data": {
      "text/plain": [
       "6.21371"
      ]
     },
     "execution_count": 28,
     "metadata": {},
     "output_type": "execute_result"
    }
   ],
   "source": [
    "#4. Use Python to solve this: If you run a 10 kilometer race in 42 minutes 42 seconds, \n",
    "#what is your average pace (time per mile in minutes and seconds)? \n",
    "#What is your average speed in miles per hour?\n",
    "\n",
    "length_km = 10\n",
    "length_miles = length_km*0.621371\n",
    "length_miles"
   ]
  },
  {
   "cell_type": "code",
   "execution_count": 29,
   "metadata": {},
   "outputs": [
    {
     "data": {
      "text/plain": [
       "42.7"
      ]
     },
     "execution_count": 29,
     "metadata": {},
     "output_type": "execute_result"
    }
   ],
   "source": [
    "time_mins = 42 + (42/60)\n",
    "time_mins"
   ]
  },
  {
   "cell_type": "code",
   "execution_count": 30,
   "metadata": {},
   "outputs": [
    {
     "data": {
      "text/plain": [
       "6.87"
      ]
     },
     "execution_count": 30,
     "metadata": {},
     "output_type": "execute_result"
    }
   ],
   "source": [
    "avg_pace_mins = time_mins/length_miles\n",
    "round(avg_pace_mins, 2)"
   ]
  },
  {
   "cell_type": "code",
   "execution_count": 31,
   "metadata": {},
   "outputs": [
    {
     "data": {
      "text/plain": [
       "412.31"
      ]
     },
     "execution_count": 31,
     "metadata": {},
     "output_type": "execute_result"
    }
   ],
   "source": [
    "avg_pace_secs = time_secs/length_miles\n",
    "round(avg_pace_secs , 2)"
   ]
  },
  {
   "cell_type": "code",
   "execution_count": 36,
   "metadata": {},
   "outputs": [
    {
     "name": "stdout",
     "output_type": "stream",
     "text": [
      "8.73 mph\n"
     ]
    }
   ],
   "source": [
    "avg_speed_mph = length_miles/(time_mins/60)\n",
    "print(round(avg_speed_mph, 2), 'mph')"
   ]
  },
  {
   "cell_type": "code",
   "execution_count": 39,
   "metadata": {},
   "outputs": [
    {
     "name": "stdout",
     "output_type": "stream",
     "text": [
      "spamspamspam\n"
     ]
    }
   ],
   "source": [
    "#PART C\n",
    "#2. Save the string 'spam' as a variable and print it 3 times without spaces in between. \n",
    "#Also print the result as 'SPAMSPAMSPAM', 'SpamSpamSpam' and 'spam spam spam')\n",
    "\n",
    "var = 'spam'\n",
    "print(var*3)"
   ]
  },
  {
   "cell_type": "code",
   "execution_count": 44,
   "metadata": {},
   "outputs": [
    {
     "name": "stdout",
     "output_type": "stream",
     "text": [
      "SPAMSPAMSPAM\n"
     ]
    }
   ],
   "source": [
    "#upper case\n",
    "print(var.upper()*3)"
   ]
  },
  {
   "cell_type": "code",
   "execution_count": 45,
   "metadata": {},
   "outputs": [
    {
     "name": "stdout",
     "output_type": "stream",
     "text": [
      "SpamSpamSpam\n"
     ]
    }
   ],
   "source": [
    "#CamelCase\n",
    "print(var.title()*3)"
   ]
  },
  {
   "cell_type": "code",
   "execution_count": 55,
   "metadata": {},
   "outputs": [
    {
     "data": {
      "text/plain": [
       "'spam spam spam '"
      ]
     },
     "execution_count": 55,
     "metadata": {},
     "output_type": "execute_result"
    }
   ],
   "source": [
    "(var + ' ')*3"
   ]
  },
  {
   "cell_type": "code",
   "execution_count": 56,
   "metadata": {
    "collapsed": true
   },
   "outputs": [],
   "source": [
    "#3.Apply your knowledge of variables and operations to answer this: \n",
    "# Suppose the cover price of a book is $24.95, but bookstores get a 40% discount. \n",
    "# Shipping costs $3 for the first copy and 75 cents for each additional copy. \n",
    "# What is the total wholesale cost for 60 copies? \n",
    "\n"
   ]
  },
  {
   "cell_type": "code",
   "execution_count": null,
   "metadata": {
    "collapsed": true
   },
   "outputs": [],
   "source": []
  }
 ],
 "metadata": {
  "kernelspec": {
   "display_name": "Python 3",
   "language": "python",
   "name": "python3"
  },
  "language_info": {
   "codemirror_mode": {
    "name": "ipython",
    "version": 3
   },
   "file_extension": ".py",
   "mimetype": "text/x-python",
   "name": "python",
   "nbconvert_exporter": "python",
   "pygments_lexer": "ipython3",
   "version": "3.5.2"
  }
 },
 "nbformat": 4,
 "nbformat_minor": 2
}
